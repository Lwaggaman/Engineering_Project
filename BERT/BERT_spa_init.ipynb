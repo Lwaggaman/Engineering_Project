{
 "cells": [
  {
   "cell_type": "code",
   "execution_count": 15,
   "id": "53f61ad2",
   "metadata": {},
   "outputs": [],
   "source": [
    "import pandas as pd\n",
    "import re\n",
    "data = pd.read_csv('pop_docs_nlp-1.csv', index_col=0)\n",
    "test = re.sub(r'\\\\n',r'', (data.text[1]))"
   ]
  },
  {
   "cell_type": "markdown",
   "id": "026dff44",
   "metadata": {},
   "source": [
    "## Attempt 1\n",
    "Custom pipeline"
   ]
  },
  {
   "cell_type": "code",
   "execution_count": null,
   "id": "1ca68520",
   "metadata": {},
   "outputs": [],
   "source": [
    "import torch\n",
    "from transformers import AutoTokenizer, AutoModelForQuestionAnswering\n",
    "\n",
    "pretrained_model = \"jamarju/roberta-large-bne-squad-2.0-es\"\n",
    "tokenizer = AutoTokenizer.from_pretrained(pretrained_model)\n",
    "model = AutoModelForQuestionAnswering.from_pretrained(pretrained_model)"
   ]
  },
  {
   "cell_type": "code",
   "execution_count": 19,
   "id": "4fbc2a3d",
   "metadata": {},
   "outputs": [],
   "source": [
    "context = test\n",
    "question = '¿Cuáles son los objetivos de la Unesco?'"
   ]
  },
  {
   "cell_type": "code",
   "execution_count": 28,
   "id": "56c64f02",
   "metadata": {},
   "outputs": [],
   "source": [
    "inputs = (tokenizer(question, context, return_tensors='pt', padding='longest', truncation='only_second'))"
   ]
  },
  {
   "cell_type": "code",
   "execution_count": 29,
   "id": "55367cad",
   "metadata": {},
   "outputs": [
    {
     "name": "stdout",
     "output_type": "stream",
     "text": [
      "torch.Size([1, 512]) torch.Size([1, 512])\n"
     ]
    }
   ],
   "source": [
    "outputs = model(**inputs)\n",
    "start_logits = outputs.start_logits\n",
    "end_logits = outputs.end_logits\n",
    "print(start_logits.shape, end_logits.shape)"
   ]
  },
  {
   "cell_type": "code",
   "execution_count": 31,
   "id": "63073f53",
   "metadata": {},
   "outputs": [],
   "source": [
    "sequence_ids = inputs.sequence_ids()\n",
    "\n",
    "# Mask out-of-context tokens\n",
    "mask = [i != 1 for i in sequence_ids]\n",
    "\n",
    "# Unmask the [CLS] token\n",
    "mask[0] = False\n",
    "mask = torch.tensor(mask)[None]\n",
    "\n",
    "# Neg large nr's exp will be zero\n",
    "start_logits[mask] = -10000\n",
    "end_logits[mask] = -10000\n",
    "\n",
    "# Convert logits to probabilities\n",
    "start_probs = torch.nn.functional.softmax(start_logits, dim=-1)[0]\n",
    "end_probs = torch.nn.functional.softmax(end_logits, dim=-1)[0]"
   ]
  },
  {
   "cell_type": "code",
   "execution_count": 34,
   "id": "887e4b68",
   "metadata": {},
   "outputs": [],
   "source": [
    "scores = start_probs[:, None] * end_probs[None, :]\n",
    "scores = torch.triu(scores)\n",
    "\n",
    "max_index = scores.argmax().item()\n",
    "start_index = max_index // scores.shape[1]\n",
    "end_index = max_index % scores.shape[1]\n",
    "score = scores[start_index, end_index].item()"
   ]
  },
  {
   "cell_type": "code",
   "execution_count": 35,
   "id": "ca3bf1fc",
   "metadata": {},
   "outputs": [
    {
     "ename": "TypeError",
     "evalue": "slice indices must be integers or None or have an __index__ method",
     "output_type": "error",
     "traceback": [
      "\u001b[0;31m---------------------------------------------------------------------------\u001b[0m",
      "\u001b[0;31mTypeError\u001b[0m                                 Traceback (most recent call last)",
      "\u001b[0;32m/var/folders/tv/8qzgqvq554vgrs4zb6bwbwlm0000gn/T/ipykernel_5089/2986525974.py\u001b[0m in \u001b[0;36m<module>\u001b[0;34m\u001b[0m\n\u001b[1;32m      4\u001b[0m \u001b[0mstart_char\u001b[0m \u001b[0;34m=\u001b[0m \u001b[0moffsets\u001b[0m\u001b[0;34m[\u001b[0m\u001b[0mstart_index\u001b[0m\u001b[0;34m]\u001b[0m\u001b[0;34m\u001b[0m\u001b[0;34m\u001b[0m\u001b[0m\n\u001b[1;32m      5\u001b[0m \u001b[0m_\u001b[0m\u001b[0;34m,\u001b[0m \u001b[0mend_char\u001b[0m \u001b[0;34m=\u001b[0m \u001b[0moffsets\u001b[0m\u001b[0;34m[\u001b[0m\u001b[0mend_index\u001b[0m\u001b[0;34m]\u001b[0m\u001b[0;34m\u001b[0m\u001b[0;34m\u001b[0m\u001b[0m\n\u001b[0;32m----> 6\u001b[0;31m \u001b[0manswer\u001b[0m \u001b[0;34m=\u001b[0m \u001b[0mcontext\u001b[0m\u001b[0;34m[\u001b[0m\u001b[0mstart_char\u001b[0m\u001b[0;34m:\u001b[0m\u001b[0mend_char\u001b[0m\u001b[0;34m]\u001b[0m\u001b[0;34m\u001b[0m\u001b[0;34m\u001b[0m\u001b[0m\n\u001b[0m\u001b[1;32m      7\u001b[0m \u001b[0;34m\u001b[0m\u001b[0m\n\u001b[1;32m      8\u001b[0m \u001b[0mprint\u001b[0m\u001b[0;34m(\u001b[0m\u001b[0;34mf'Answer: \"{answer}\", Score: \"{score:.4f}\"'\u001b[0m\u001b[0;34m)\u001b[0m\u001b[0;34m\u001b[0m\u001b[0;34m\u001b[0m\u001b[0m\n",
      "\u001b[0;31mTypeError\u001b[0m: slice indices must be integers or None or have an __index__ method"
     ]
    }
   ],
   "source": [
    "inputs_with_offsets = tokenizer(question, context, return_offsets_mapping=True)\n",
    "offsets = inputs_with_offsets['offset_mapping']\n",
    "\n",
    "start_char = offsets[start_index]\n",
    "_, end_char = offsets[end_index]\n",
    "answer = context[start_char:end_char]\n",
    "\n",
    "print(f'Answer: \"{answer}\", Score: \"{score:.4f}\"') #Indices are off. FIND BUG"
   ]
  },
  {
   "cell_type": "markdown",
   "id": "7ab9f192",
   "metadata": {},
   "source": [
    "#### Attempt 1.2\n",
    "Use function from [article](https://medium.com/mlwhiz/understanding-bert-with-huggingface-64378237aa8)"
   ]
  },
  {
   "cell_type": "code",
   "execution_count": null,
   "id": "81e10a55",
   "metadata": {},
   "outputs": [],
   "source": [
    "inputs = tokenizer.encode_plus(question, test, add_special_tokens=True, return_tensors=\"pt\")\n",
    "input_ids = inputs[\"input_ids\"].tolist()[0]\n",
    "text_tokens = tokenizer.convert_ids_to_tokens(input_ids)\n",
    "\n",
    "pred = model(**inputs)\n",
    "answer_start_scores, answer_end_scores = pred['start_logits'][0] ,pred['end_logits'][0] \n",
    "answer_start = torch.argmax(answer_start_scores)# Get most likely beginning of answer with the argmax of the score\n",
    "answer_end = torch.argmax(answer_end_scores) + 1  # Get most likely end of answer with the argmax of the score\n",
    "answer = tokenizer.convert_tokens_to_string(tokenizer.convert_ids_to_tokens(input_ids[answer_start:answer_end]))\n",
    "print(f\"Question: {question}, Answer: {answer}\")"
   ]
  },
  {
   "cell_type": "markdown",
   "id": "9ff5552d",
   "metadata": {},
   "source": [
    "## Attempt 2: Pipeline"
   ]
  },
  {
   "cell_type": "code",
   "execution_count": 42,
   "id": "8ff27750",
   "metadata": {},
   "outputs": [],
   "source": [
    "from transformers import Pipeline, pipeline\n",
    "from typing import Dict"
   ]
  },
  {
   "cell_type": "code",
   "execution_count": 56,
   "id": "9b1e4ca0",
   "metadata": {},
   "outputs": [],
   "source": [
    "pretrained_model =\"PremalMatalia/roberta-base-best-squad2\"\n",
    "\n",
    "qa = pipeline(task='question-answering', model=pretrained_model)\n",
    "\n",
    "def answer_question(pipeline: Pipeline, question: str, paragraph: str) -> Dict:\n",
    "    input = {\"question\": question, \"context\": paragraph}\n",
    "    return pipeline(input)"
   ]
  },
  {
   "cell_type": "code",
   "execution_count": 48,
   "id": "921bfc46",
   "metadata": {},
   "outputs": [],
   "source": [
    "qa = pipeline(task='question-answering', model=pretrained_model)"
   ]
  },
  {
   "cell_type": "code",
   "execution_count": 49,
   "id": "6b5b5c94",
   "metadata": {},
   "outputs": [
    {
     "name": "stderr",
     "output_type": "stream",
     "text": [
      "/opt/anaconda3/envs/deep/lib/python3.8/site-packages/transformers/tokenization_utils_base.py:707: VisibleDeprecationWarning: Creating an ndarray from ragged nested sequences (which is a list-or-tuple of lists-or-tuples-or ndarrays with different lengths or shapes) is deprecated. If you meant to do this, you must specify 'dtype=object' when creating the ndarray.\n",
      "  tensor = as_tensor(value)\n",
      "/opt/anaconda3/envs/deep/lib/python3.8/site-packages/transformers/pipelines/question_answering.py:296: VisibleDeprecationWarning: Creating an ndarray from ragged nested sequences (which is a list-or-tuple of lists-or-tuples-or ndarrays with different lengths or shapes) is deprecated. If you meant to do this, you must specify 'dtype=object' when creating the ndarray.\n",
      "  p_mask = np.asarray(\n"
     ]
    }
   ],
   "source": [
    "answer_test = answer_question(pipeline=qa, question=, paragraph=context)"
   ]
  },
  {
   "cell_type": "code",
   "execution_count": 64,
   "id": "5de01922",
   "metadata": {},
   "outputs": [],
   "source": [
    "question1 = '¿Qué es una respuesta alternativa?'\n",
    "#'answer': 'objeción de conciencia es una alternativa a la fuerza y a la violencia'}\n",
    "question2 = '¿Qué constituye la objecion de conciencia?'\n",
    "#'answer': 'objeción de conciencia es una alternativa a la fuerza y a la violencia'}\n",
    "#true_answer = 'un mecanismo coherente y eficaz para la defensa de las libertades individuales'\n",
    "question3 = '¿Existen actos delictuales?'\n",
    "#'answer': 'actos delictuales contra símbolos y templos'\n",
    "#true_answer = si\n",
    "question4 = '¿Qué se debe considerar?'\n",
    "#'answer': 'discurso de odio'\n",
    "#true_answer = 'las creencias religiosas son convicciones de propósitos de vida respetables'"
   ]
  },
  {
   "cell_type": "markdown",
   "id": "7f24c4f2",
   "metadata": {},
   "source": [
    "Without '¿'"
   ]
  },
  {
   "cell_type": "code",
   "execution_count": 70,
   "id": "ce2e9eac",
   "metadata": {},
   "outputs": [],
   "source": [
    "question1 = 'Qué es una respuesta alternativa?'\n",
    "#'answer': 'objeción de conciencia es una alternativa a la fuerza y a la violencia'}\n",
    "question2 = 'Qué constituye la objecion de conciencia?'\n",
    "#'answer': 'una alternativa a la fuerza y a la violencia'\n",
    "question3 = 'Existen actos delictuales?'\n",
    "#'answer': 'símbolos y templos'}\n",
    "#true_answer = 'Si'\n",
    "question4 = 'Qué se debe considerar?'\n",
    "#'answer': 'todas las personas'}"
   ]
  },
  {
   "cell_type": "markdown",
   "id": "02c55655",
   "metadata": {},
   "source": [
    "Uncased"
   ]
  },
  {
   "cell_type": "code",
   "execution_count": 76,
   "id": "caa0abd8",
   "metadata": {},
   "outputs": [],
   "source": [
    "question1 = '¿qué es una respuesta alternativa?'\n",
    "#'answer': 'Asociación Internacional para la Libertad Religiosa'} .81 NOT\n",
    "question2 = '¿qué constituye la objecion de conciencia?'\n",
    "#'answer': 'una alternativa a la fuerza y a la violencia'} .91\n",
    "question3 = '¿existen actos delictuales?'\n",
    "#'answer': 'actos delictuales contra símbolos y templos'} .72\n",
    "question4 = '¿qué se debe consagrar?'\n",
    "#'answer': 'derechos fundamentales'} .34"
   ]
  },
  {
   "cell_type": "markdown",
   "id": "d8584f3b",
   "metadata": {},
   "source": [
    "Uncased without '¿'"
   ]
  },
  {
   "cell_type": "code",
   "execution_count": 81,
   "id": "ac789373",
   "metadata": {},
   "outputs": [],
   "source": [
    "question1 = 'qué es una respuesta alternativa?'\n",
    "#'answer': 'objeción de conciencia es una alternativa a la fuerza y a la violencia'} .89\n",
    "question2 = 'qué constituye la objecion de conciencia?'\n",
    "#'answer': 'una alternativa a la fuerza y a la violencia'\n",
    "#true_answer = 'un mecanismo coherente y eficaz para la defensa de las libertades individuales'\n",
    "question3 = 'existen actos delictuales?'\n",
    "#'answer': 'símbolos y templos'} .57\n",
    "question4 = 'qué se debe consagrar?'\n",
    "#'answer': 'derechos' .44"
   ]
  },
  {
   "cell_type": "code",
   "execution_count": 83,
   "id": "c4d822ad",
   "metadata": {},
   "outputs": [
    {
     "data": {
      "text/plain": [
       "transformers.pipelines.question_answering.QuestionAnsweringPipeline"
      ]
     },
     "execution_count": 83,
     "metadata": {},
     "output_type": "execute_result"
    }
   ],
   "source": [
    "type(qa)"
   ]
  },
  {
   "cell_type": "markdown",
   "id": "32695797",
   "metadata": {},
   "source": [
    "#### jamarju model\n",
    "roBERTa is too slow"
   ]
  },
  {
   "cell_type": "code",
   "execution_count": 84,
   "id": "57757245",
   "metadata": {},
   "outputs": [],
   "source": [
    "pretrained_model1 = \"jamarju/roberta-large-bne-squad-2.0-es\"\n",
    "qa = pipeline(task='question-answering', model=pretrained_model1)"
   ]
  },
  {
   "cell_type": "code",
   "execution_count": 91,
   "id": "dff86f11",
   "metadata": {},
   "outputs": [],
   "source": [
    "question1 = 'Qué es una respuesta alternativa?'\n",
    "#'answer': 'objeción de conciencia es una alternativa a la fuerza y a la violencia'} .91\n",
    "question2 = 'Qué constituye la objecion de conciencia?'\n",
    "#'answer': 'una alternativa a la fuerza y a la violencia'} .97\n",
    "question3 = 'Existen actos delictuales?'\n",
    "#'answer': 'símbolos y templos' .58\n",
    "#true_answer = si\n",
    "question4 = 'Qué se debe considerar?'\n",
    "#'answer': 'todas las personas' .45\n",
    "#true_answer = 'las creencias religiosas son convicciones de propósitos de vida respetables'\n",
    "answers_jam = ([answer_question(pipeline=qa, question=q, paragraph=context)\n",
    "                for q in [question1, question2, question3, question4]])"
   ]
  },
  {
   "cell_type": "markdown",
   "id": "73551b98",
   "metadata": {},
   "source": [
    "### Lighter Models"
   ]
  },
  {
   "cell_type": "code",
   "execution_count": 95,
   "id": "bff1c8b9",
   "metadata": {},
   "outputs": [],
   "source": [
    "bert = \"mrm8488/bert-base-spanish-wwm-cased-finetuned-spa-squad2-es\"\n",
    "distilbert = \"mrm8488/distill-bert-base-spanish-wwm-cased-finetuned-spa-squad2-es\""
   ]
  },
  {
   "cell_type": "code",
   "execution_count": 97,
   "id": "41261e72",
   "metadata": {},
   "outputs": [
    {
     "name": "stdout",
     "output_type": "stream",
     "text": [
      "{'score': 0.3406215012073517, 'start': 1488, 'end': 1523, 'answer': 'derecho a la objeción de conciencia'}\n",
      "{'score': 0.5367205142974854, 'start': 1527, 'end': 1571, 'answer': 'una alternativa a la fuerza y a la violencia'}\n",
      "{'score': 0.5960468053817749, 'start': 773, 'end': 791, 'answer': 'símbolos y templos'}\n",
      "{'score': 0.24172155559062958, 'start': 4039, 'end': 4057, 'answer': 'todas las personas'}\n"
     ]
    },
    {
     "data": {
      "text/plain": [
       "[None, None, None, None]"
      ]
     },
     "execution_count": 97,
     "metadata": {},
     "output_type": "execute_result"
    }
   ],
   "source": [
    "qa = pipeline(task='question-answering', model=bert)\n",
    "answers_bert_noq = ([answer_question(pipeline=qa, question=q, paragraph=context)\n",
    "                     for q in [question1, question2, question3, question4]])\n",
    "[print(i) for i in answers_bert_noq]"
   ]
  },
  {
   "cell_type": "code",
   "execution_count": 99,
   "id": "42438a51",
   "metadata": {},
   "outputs": [
    {
     "name": "stdout",
     "output_type": "stream",
     "text": [
      "{'score': 0.5658420324325562, 'start': 1488, 'end': 1523, 'answer': 'derecho a la objeción de conciencia'}\n",
      "{'score': 0.6642604470252991, 'start': 1527, 'end': 1571, 'answer': 'una alternativa a la fuerza y a la violencia'}\n",
      "{'score': 0.5605242848396301, 'start': 773, 'end': 791, 'answer': 'símbolos y templos'}\n",
      "{'score': 0.5529854893684387, 'start': 4039, 'end': 4057, 'answer': 'todas las personas'}\n"
     ]
    },
    {
     "data": {
      "text/plain": [
       "[None, None, None, None]"
      ]
     },
     "execution_count": 99,
     "metadata": {},
     "output_type": "execute_result"
    }
   ],
   "source": [
    "qa = pipeline(task='question-answering', model=distilbert)\n",
    "answers_bert_noq = ([answer_question(pipeline=qa, question=q, paragraph=context)\n",
    "                     for q in [question1, question2, question3, question4]])\n",
    "[print(i) for i in answers_bert_noq]"
   ]
  }
 ],
 "metadata": {
  "kernelspec": {
   "display_name": "Python [conda env:deep]",
   "language": "python",
   "name": "conda-env-deep-py"
  },
  "language_info": {
   "codemirror_mode": {
    "name": "ipython",
    "version": 3
   },
   "file_extension": ".py",
   "mimetype": "text/x-python",
   "name": "python",
   "nbconvert_exporter": "python",
   "pygments_lexer": "ipython3",
   "version": "3.8.12"
  }
 },
 "nbformat": 4,
 "nbformat_minor": 5
}
